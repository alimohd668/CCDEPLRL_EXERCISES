{
  "cells": [
    {
      "cell_type": "markdown",
      "metadata": {
        "colab_type": "text",
        "id": "view-in-github"
      },
      "source": [
        "<a href=\"https://colab.research.google.com/github/robitussin/CCDEPLRL_EXERCISES/blob/main/exercise2.ipynb\" target=\"_parent\"><img src=\"https://colab.research.google.com/assets/colab-badge.svg\" alt=\"Open In Colab\"/></a>"
      ]
    },
    {
      "cell_type": "markdown",
      "metadata": {
        "id": "tqFPmGbJ7Oah"
      },
      "source": [
        "# Exercise 2"
      ]
    },
    {
      "cell_type": "markdown",
      "metadata": {
        "id": "cUkdx6a498S8"
      },
      "source": [
        "\n",
        "## Forward Pass and Backward Pass"
      ]
    },
    {
      "cell_type": "markdown",
      "metadata": {
        "id": "0Q5Io34f-x38"
      },
      "source": [
        "<img src=\"https://github.com/robitussin/CCDEPLRL_EXERCISES/blob/main/images/exercise2.png?raw=true\"/>"
      ]
    },
    {
      "cell_type": "markdown",
      "metadata": {
        "id": "-ZTBRmkM7JMR"
      },
      "source": [
        "<img src=\"\"/>"
      ]
    },
    {
      "cell_type": "markdown",
      "metadata": {
        "id": "7HD5MNgg7hIu"
      },
      "source": [
        "1. What is the predicted output? (`20 points`)"
      ]
    },
    {
      "cell_type": "code",
      "execution_count": 7,
      "metadata": {
        "id": "2cbutiml5cm_"
      },
      "outputs": [
        {
          "name": "stdout",
          "output_type": "stream",
          "text": [
            "4.0\n"
          ]
        }
      ],
      "source": [
        "# put your answer here\n",
        "z1 = 2.0\n",
        "w1 = 2.0\n",
        "predicted_output = z1 * w1\n",
        "print(predicted_output)"
      ]
    },
    {
      "cell_type": "markdown",
      "metadata": {
        "id": "JTh2z2v97k0J"
      },
      "source": [
        "2. Find the loss using the Mean Squared Error (MSE) function (`20 points`)"
      ]
    },
    {
      "cell_type": "code",
      "execution_count": 8,
      "metadata": {
        "id": "F2D7opAr7t3U"
      },
      "outputs": [
        {
          "name": "stdout",
          "output_type": "stream",
          "text": [
            "9.0\n"
          ]
        }
      ],
      "source": [
        "# put your answer here\n",
        "desired_output = 1\n",
        "mse_loss = (predicted_output - desired_output)**2\n",
        "print(mse_loss)"
      ]
    },
    {
      "cell_type": "markdown",
      "metadata": {
        "id": "wz5D8wEl7wtT"
      },
      "source": [
        "3. What is the derivative of $z_{2}$ with respect to $w_{1}$? (`20 points`)"
      ]
    },
    {
      "cell_type": "code",
      "execution_count": 9,
      "metadata": {
        "id": "n8Q_9JJ57xFL"
      },
      "outputs": [
        {
          "name": "stdout",
          "output_type": "stream",
          "text": [
            "2.0\n"
          ]
        }
      ],
      "source": [
        "# put your answer here\n",
        "dz2_dw1 = z1\n",
        "print(dz2_dw1)"
      ]
    },
    {
      "cell_type": "markdown",
      "metadata": {
        "id": "HVpt0n-E9TIx"
      },
      "source": [
        "4. What is the derivative of the loss with respect to $z_{2}$? (`20 points`)"
      ]
    },
    {
      "cell_type": "code",
      "execution_count": 10,
      "metadata": {
        "id": "KM4fEL059grQ"
      },
      "outputs": [
        {
          "name": "stdout",
          "output_type": "stream",
          "text": [
            "6.0\n"
          ]
        }
      ],
      "source": [
        "# put your answer here\n",
        "dloss_dz2 = 2 * (predicted_output - desired_output)\n",
        "print(dloss_dz2)"
      ]
    },
    {
      "cell_type": "markdown",
      "metadata": {
        "id": "hlO5xdMx9hhl"
      },
      "source": [
        "5. What is the derivative of the loss with respect to $w_{1}$? (`20 points`)"
      ]
    },
    {
      "cell_type": "code",
      "execution_count": 11,
      "metadata": {
        "id": "-xP2grHW9hxK"
      },
      "outputs": [
        {
          "name": "stdout",
          "output_type": "stream",
          "text": [
            "12.0\n"
          ]
        }
      ],
      "source": [
        "# put your answer here\n",
        "dloss_dw1 = dloss_dz2 * dz2_dw1\n",
        "print(dloss_dw1)"
      ]
    }
  ],
  "metadata": {
    "colab": {
      "authorship_tag": "ABX9TyPlPnbUMRQzFWCfEqiWpXpy",
      "include_colab_link": true,
      "provenance": []
    },
    "kernelspec": {
      "display_name": "Python 3",
      "name": "python3"
    },
    "language_info": {
      "codemirror_mode": {
        "name": "ipython",
        "version": 3
      },
      "file_extension": ".py",
      "mimetype": "text/x-python",
      "name": "python",
      "nbconvert_exporter": "python",
      "pygments_lexer": "ipython3",
      "version": "3.11.8"
    }
  },
  "nbformat": 4,
  "nbformat_minor": 0
}
